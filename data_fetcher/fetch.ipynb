{
 "cells": [
  {
   "cell_type": "code",
   "execution_count": 31,
   "metadata": {},
   "outputs": [],
   "source": [
    "import requests\n",
    "from dotenv import dotenv_values\n",
    "\n",
    "# Load the environment variables from the .env file\n",
    "env_vars = dotenv_values(\"../local.env\")\n",
    "\n",
    "# Access the environment variables\n",
    "api_key = env_vars['ALPHA_VANTAGE_API_KEY']"
   ]
  },
  {
   "cell_type": "code",
   "execution_count": 42,
   "metadata": {},
   "outputs": [],
   "source": [
    "def fetchIntradayDataCSV(symbol: str, interval: str, month: str, api_key: str, result_file: str, append=False):\n",
    "    print(f\"Fetching data for {symbol} for the month of {month}...\")\n",
    "\n",
    "    api_domain = \"www.alphavantage.co\"\n",
    "    function = \"TIME_SERIES_INTRADAY\"\n",
    "    output_size = \"full\"\n",
    "    url = \"https://{}/query?function={}&symbol={}&interval={}&month={}&outputsize={}&apikey={}\".format(\n",
    "        api_domain, function, symbol, interval, month, output_size, api_key)\n",
    "\n",
    "    r = requests.get(url)\n",
    "    data = r.json()\n",
    "\n",
    "    price_data = data.get(\"Time Series (1min)\")\n",
    "\n",
    "    if not price_data:\n",
    "        print(f\"Error: {data.get('Error Message')}\")\n",
    "        return\n",
    "\n",
    "    if not append:\n",
    "        with open(result_file, 'w') as f:\n",
    "            f.write('Date,Open,High,Low,Close,Volume\\n')\n",
    "\n",
    "    with open(result_file, 'a') as f:\n",
    "        for date, price in price_data.items():\n",
    "            f.write(date + ',' + price['1. open'] + ',' + price['2. high'] + ',' +\n",
    "                    price['3. low'] + ',' + price['4. close'] + ',' + price['5. volume'] + '\\n')\n",
    "    print(f\"Data for {symbol} for the month of {month} fetched successfully.\")\n",
    "\n",
    "\n",
    "def getMonths(start: str, end: str):\n",
    "    start_year, start_month = map(int, start.split('-'))\n",
    "    end_year, end_month = map(int, end.split('-'))\n",
    "\n",
    "    months = []\n",
    "\n",
    "    for year in range(start_year, end_year + 1):\n",
    "        for month in range(1, 13):\n",
    "            if year == start_year and month < start_month:\n",
    "                continue\n",
    "            if year == end_year and month > end_month:\n",
    "                break\n",
    "            months.append(f\"{year}-{month:02d}\")\n",
    "\n",
    "    return months"
   ]
  },
  {
   "cell_type": "code",
   "execution_count": 45,
   "metadata": {},
   "outputs": [],
   "source": [
    "# create csv file\n",
    "symbol = \"AAPL\"\n",
    "interval = \"1min\"\n",
    "month = \"2021-02\"\n",
    "\n",
    "months = getMonths(\"2021-01\", \"2021-12\")\n",
    "\n",
    "result_file = \"{}_intraday.csv\".format(symbol)\n",
    "with open(result_file, 'w') as f:\n",
    "    f.write('Date,Open,High,Low,Close,Volume\\n')\n",
    "for month in months:\n",
    "    fetchIntradayDataCSV(symbol, interval, month, api_key,\n",
    "                         result_file, append=True)"
   ]
  },
  {
   "cell_type": "code",
   "execution_count": 48,
   "metadata": {},
   "outputs": [
    {
     "name": "stdout",
     "output_type": "stream",
     "text": [
      "                      Date     Open     High      Low    Close  Volume\n",
      "16969  2021-01-04 04:00:00  130.834  131.031  130.521  131.011   25026\n",
      "16968  2021-01-04 04:01:00  131.011  131.031  130.983  131.011     798\n",
      "16967  2021-01-04 04:02:00  131.119  131.139  130.992  131.020     580\n",
      "16966  2021-01-04 04:03:00  131.030  131.051  131.002  131.030     218\n",
      "16965  2021-01-04 04:04:00  131.286  131.306  131.189  131.236    1492\n"
     ]
    }
   ],
   "source": [
    "# get data from csv file\n",
    "import pandas as pd\n",
    "data = pd.read_csv(result_file)\n",
    "\n",
    "# sort data by date and save\n",
    "data = data.sort_values(by='Date')\n",
    "data.to_csv(result_file, index=False)\n",
    "print(data.head())"
   ]
  }
 ],
 "metadata": {
  "kernelspec": {
   "display_name": "Python 3",
   "language": "python",
   "name": "python3"
  },
  "language_info": {
   "codemirror_mode": {
    "name": "ipython",
    "version": 3
   },
   "file_extension": ".py",
   "mimetype": "text/x-python",
   "name": "python",
   "nbconvert_exporter": "python",
   "pygments_lexer": "ipython3",
   "version": "3.10.9"
  }
 },
 "nbformat": 4,
 "nbformat_minor": 2
}
