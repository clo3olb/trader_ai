{
 "cells": [
  {
   "cell_type": "code",
   "execution_count": 1,
   "metadata": {},
   "outputs": [
    {
     "name": "stdout",
     "output_type": "stream",
     "text": [
      "timestamp    1983-01-11\n",
      "Open           0.045452\n",
      "High            0.01724\n",
      "Low            0.055042\n",
      "Close          0.013043\n",
      "Volume        -0.994956\n",
      "Name: 1, dtype: object\n"
     ]
    }
   ],
   "source": [
    "from data_provider.data_loader import Dataset_Custom\n",
    "\n",
    "dataset = Dataset_Custom(\n",
    "    root_path='./dataset',\n",
    "    flag='train',\n",
    "    size=[336, 19, 96],\n",
    "    features='S',\n",
    "    data_path='AAPL.csv',\n",
    "    target='Close',\n",
    "    scale=True,\n",
    "    timeenc=0,\n",
    "    freq='1d',\n",
    "    date_header='timestamp'\n",
    ")"
   ]
  },
  {
   "cell_type": "code",
   "execution_count": 3,
   "metadata": {},
   "outputs": [
    {
     "name": "stdout",
     "output_type": "stream",
     "text": [
      "6757\n",
      "(336, 1)\n",
      "(115, 1)\n",
      "[[1983    1   10    0    0    0]\n",
      " [1983    1   11    1    0    0]\n",
      " [1983    1   12    2    0    0]\n",
      " ...\n",
      " [1984    5    3    3    0    0]\n",
      " [1984    5    4    4    0    0]\n",
      " [1984    5    7    0    0    0]]\n",
      "(115, 6)\n"
     ]
    }
   ],
   "source": [
    "print(len(dataset))\n",
    "print(dataset[0][0].shape)\n",
    "print(dataset[0][1].shape)\n",
    "print(dataset[0][2])\n",
    "print(dataset[0][3].shape)"
   ]
  },
  {
   "cell_type": "code",
   "execution_count": 2,
   "metadata": {},
   "outputs": [
    {
     "ename": "NameError",
     "evalue": "name 'dataset' is not defined",
     "output_type": "error",
     "traceback": [
      "\u001b[0;31m---------------------------------------------------------------------------\u001b[0m",
      "\u001b[0;31mNameError\u001b[0m                                 Traceback (most recent call last)",
      "Cell \u001b[0;32mIn[2], line 3\u001b[0m\n\u001b[1;32m      1\u001b[0m \u001b[38;5;28;01mimport\u001b[39;00m \u001b[38;5;21;01mmatplotlib\u001b[39;00m\u001b[38;5;21;01m.\u001b[39;00m\u001b[38;5;21;01mpyplot\u001b[39;00m \u001b[38;5;28;01mas\u001b[39;00m \u001b[38;5;21;01mplt\u001b[39;00m\n\u001b[0;32m----> 3\u001b[0m plt\u001b[38;5;241m.\u001b[39mplot(\u001b[43mdataset\u001b[49m[\u001b[38;5;241m0\u001b[39m][\u001b[38;5;241m1\u001b[39m])\n\u001b[1;32m      4\u001b[0m plt\u001b[38;5;241m.\u001b[39mshow()\n",
      "\u001b[0;31mNameError\u001b[0m: name 'dataset' is not defined"
     ]
    }
   ],
   "source": [
    "import matplotlib.pyplot as plt\n",
    "\n",
    "plt.plot(dataset[0][1])\n",
    "plt.show()"
   ]
  }
 ],
 "metadata": {
  "kernelspec": {
   "display_name": "trader_ai",
   "language": "python",
   "name": "python3"
  },
  "language_info": {
   "codemirror_mode": {
    "name": "ipython",
    "version": 3
   },
   "file_extension": ".py",
   "mimetype": "text/x-python",
   "name": "python",
   "nbconvert_exporter": "python",
   "pygments_lexer": "ipython3",
   "version": "3.10.13"
  }
 },
 "nbformat": 4,
 "nbformat_minor": 2
}
