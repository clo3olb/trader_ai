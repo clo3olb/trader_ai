{
 "cells": [
  {
   "cell_type": "code",
   "execution_count": 14,
   "metadata": {},
   "outputs": [
    {
     "ename": "FileNotFoundError",
     "evalue": "[Errno 2] No such file or directory: '../results//PatchTST_AAPL_with_correct_sentiment_336_96/data/input.npy'",
     "output_type": "error",
     "traceback": [
      "\u001b[0;31m---------------------------------------------------------------------------\u001b[0m",
      "\u001b[0;31mFileNotFoundError\u001b[0m                         Traceback (most recent call last)",
      "\u001b[0;32m/var/tmp/ipykernel_16974/14934673.py\u001b[0m in \u001b[0;36m<module>\u001b[0;34m\u001b[0m\n\u001b[1;32m      6\u001b[0m \u001b[0mdata_path2\u001b[0m \u001b[0;34m=\u001b[0m \u001b[0;34m\"../results//PatchTST_AAPL_with_sentiment_336_96/data/\"\u001b[0m\u001b[0;34m\u001b[0m\u001b[0;34m\u001b[0m\u001b[0m\n\u001b[1;32m      7\u001b[0m \u001b[0;34m\u001b[0m\u001b[0m\n\u001b[0;32m----> 8\u001b[0;31m \u001b[0minput1\u001b[0m \u001b[0;34m=\u001b[0m \u001b[0mnp\u001b[0m\u001b[0;34m.\u001b[0m\u001b[0mload\u001b[0m\u001b[0;34m(\u001b[0m\u001b[0mdata_path1\u001b[0m \u001b[0;34m+\u001b[0m \u001b[0;34m'input.npy'\u001b[0m\u001b[0;34m)\u001b[0m\u001b[0;34m\u001b[0m\u001b[0;34m\u001b[0m\u001b[0m\n\u001b[0m\u001b[1;32m      9\u001b[0m \u001b[0minput2\u001b[0m \u001b[0;34m=\u001b[0m \u001b[0mnp\u001b[0m\u001b[0;34m.\u001b[0m\u001b[0mload\u001b[0m\u001b[0;34m(\u001b[0m\u001b[0mdata_path2\u001b[0m \u001b[0;34m+\u001b[0m \u001b[0;34m'input.npy'\u001b[0m\u001b[0;34m)\u001b[0m\u001b[0;34m\u001b[0m\u001b[0;34m\u001b[0m\u001b[0m\n\u001b[1;32m     10\u001b[0m \u001b[0mtrue1\u001b[0m \u001b[0;34m=\u001b[0m \u001b[0mnp\u001b[0m\u001b[0;34m.\u001b[0m\u001b[0mload\u001b[0m\u001b[0;34m(\u001b[0m\u001b[0mdata_path1\u001b[0m \u001b[0;34m+\u001b[0m \u001b[0;34m'true.npy'\u001b[0m\u001b[0;34m)\u001b[0m\u001b[0;34m\u001b[0m\u001b[0;34m\u001b[0m\u001b[0m\n",
      "\u001b[0;32m~/trader_ai/trader_ai/lib/python3.7/site-packages/numpy/lib/npyio.py\u001b[0m in \u001b[0;36mload\u001b[0;34m(file, mmap_mode, allow_pickle, fix_imports, encoding)\u001b[0m\n\u001b[1;32m    415\u001b[0m             \u001b[0mown_fid\u001b[0m \u001b[0;34m=\u001b[0m \u001b[0;32mFalse\u001b[0m\u001b[0;34m\u001b[0m\u001b[0;34m\u001b[0m\u001b[0m\n\u001b[1;32m    416\u001b[0m         \u001b[0;32melse\u001b[0m\u001b[0;34m:\u001b[0m\u001b[0;34m\u001b[0m\u001b[0;34m\u001b[0m\u001b[0m\n\u001b[0;32m--> 417\u001b[0;31m             \u001b[0mfid\u001b[0m \u001b[0;34m=\u001b[0m \u001b[0mstack\u001b[0m\u001b[0;34m.\u001b[0m\u001b[0menter_context\u001b[0m\u001b[0;34m(\u001b[0m\u001b[0mopen\u001b[0m\u001b[0;34m(\u001b[0m\u001b[0mos_fspath\u001b[0m\u001b[0;34m(\u001b[0m\u001b[0mfile\u001b[0m\u001b[0;34m)\u001b[0m\u001b[0;34m,\u001b[0m \u001b[0;34m\"rb\"\u001b[0m\u001b[0;34m)\u001b[0m\u001b[0;34m)\u001b[0m\u001b[0;34m\u001b[0m\u001b[0;34m\u001b[0m\u001b[0m\n\u001b[0m\u001b[1;32m    418\u001b[0m             \u001b[0mown_fid\u001b[0m \u001b[0;34m=\u001b[0m \u001b[0;32mTrue\u001b[0m\u001b[0;34m\u001b[0m\u001b[0;34m\u001b[0m\u001b[0m\n\u001b[1;32m    419\u001b[0m \u001b[0;34m\u001b[0m\u001b[0m\n",
      "\u001b[0;31mFileNotFoundError\u001b[0m: [Errno 2] No such file or directory: '../results//PatchTST_AAPL_with_correct_sentiment_336_96/data/input.npy'"
     ]
    }
   ],
   "source": [
    "import pandas as pd\n",
    "import numpy as np\n",
    "import matplotlib.pyplot as plt\n",
    "\n",
    "data_path1 = \"../results//PatchTST_AAPL_with_correct_sentiment_336_96/data/\"\n",
    "data_path2 = \"../results//PatchTST_AAPL_with_sentiment_336_96/data/\"\n",
    "\n",
    "input1 = np.load(data_path1 + 'x.npy')\n",
    "input2 = np.load(data_path2 + 'x.npy')\n",
    "true1 = np.load(data_path1 + 'true.npy')\n",
    "true2 = np.load(data_path2 + 'true.npy')\n",
    "pred1 = np.load(data_path1 + 'pred.npy')\n",
    "pred2 = np.load(data_path2 + 'pred.npy')\n",
    "\n",
    "input1 = input1[:, :, -1]\n",
    "input2 = input2[:, :, -1]\n",
    "true1 = true1[:, :, -1]\n",
    "true2 = true2[:, :, -1]\n",
    "pred1 = pred1[:, :, -1]\n",
    "pred2 = pred2[:, :, -1]\n",
    "\n",
    "\n",
    "def matchIndex(true1: np.array, true2: np.array):\n",
    "    found = 0\n",
    "    for i in range(true1.shape[0]):\n",
    "        if np.all(true1[i, :] == true2[0, :]):\n",
    "            return i, 0\n",
    "    if found == 0:\n",
    "        for i in range(true2.shape[0]):\n",
    "            if np.all(true1[0, :] == true2[i, :]):\n",
    "                return 0, i\n",
    "\n",
    "true1_start, true2_start = matchIndex(true1, true2)\n",
    "\n",
    "input1 = input1[true1_start:, :]\n",
    "input2 = input2[true2_start:, :]\n",
    "true1 = true1[true1_start:, :]\n",
    "true2 = true2[true2_start:, :]\n",
    "pred1 = pred1[true1_start:, :]\n",
    "pred2 = pred2[true2_start:, :]\n",
    "\n",
    "# input + true = true\n",
    "true1 = np.concatenate((input1, true1), axis=1)\n",
    "true2 = np.concatenate((input2, true2), axis=1)\n",
    "pred1 = np.concatenate((input1, pred1), axis=1)\n",
    "pred2 = np.concatenate((input2, pred2), axis=1)\n",
    "\n",
    "plt.figure()\n",
    "plt.plot(true1[0, :], label='with correct sentiment')\n",
    "plt.plot(true2[0, :], label='with sentiment')\n",
    "plt.legend()\n",
    "plt.show()"
   ]
  }
 ],
 "metadata": {
  "kernelspec": {
   "display_name": "trader_ai",
   "language": "python",
   "name": "python3"
  },
  "language_info": {
   "codemirror_mode": {
    "name": "ipython",
    "version": 3
   },
   "file_extension": ".py",
   "mimetype": "text/x-python",
   "name": "python",
   "nbconvert_exporter": "python",
   "pygments_lexer": "ipython3",
   "version": "3.7.12"
  }
 },
 "nbformat": 4,
 "nbformat_minor": 2
}
